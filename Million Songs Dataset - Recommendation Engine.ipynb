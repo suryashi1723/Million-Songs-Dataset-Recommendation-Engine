{
 "cells": [
  {
   "cell_type": "code",
   "execution_count": null,
   "id": "46ddaad9",
   "metadata": {},
   "outputs": [],
   "source": [
    "import pandas as pd\n",
    "import numpy as np\n",
    "import Recommenders as Recommenders\n",
    "\n",
    "song_df_1 = pd.read_csv('triplets_file.csv')\n",
    "song_df_1.head()\n",
    "\n",
    "song_df_2 = pd.read_csv('song_data.csv')\n",
    "song_df_2.head()\n",
    "\n",
    "# combine both data\n",
    "song_df = pd.merge(song_df_1, song_df_2.drop_duplicates(['song_id']), on='song_id', how='left')\n",
    "song_df.head()\n",
    "\n",
    "print(len(song_df_1), len(song_df_2))\n",
    "\n",
    "len(song_df)\n",
    "\n",
    "# creating new feature combining title and artist name\n",
    "song_df['song'] = song_df['title']+' - '+song_df['artist_name']\n",
    "song_df.head()\n",
    "\n",
    "\n",
    "# taking top 10k samples for quick results\n",
    "song_df = song_df.head(10000)\n",
    "# cummulative sum of listen count of the songs\n",
    "song_grouped = song_df.groupby(['song']).agg({'listen_count':'count'}).reset_index()\n",
    "song_grouped.head()\n",
    "\n",
    "grouped_sum = song_grouped['listen_count'].sum()\n",
    "song_grouped['percentage'] = (song_grouped['listen_count'] / grouped_sum ) * 100\n",
    "song_grouped.sort_values(['listen_count', 'song'], ascending=[0,1])\n",
    "\n",
    "pr = Recommenders.popularity_recommender_py()\n",
    "pr.create(song_df, 'user_id', 'song')\n",
    "# display the top 10 popular songs\n",
    "pr.recommend(song_df['user_id'][5])\n",
    "\n",
    "pr.recommend(song_df['user_id'][100])\n",
    "\n",
    "ir = Recommenders.item_similarity_recommender_py()\n",
    "ir.create(song_df, 'user_id', 'song')\n",
    "user_items = ir.get_user_items(song_df['user_id'][5])\n",
    "# display user songs history\n",
    "for user_item in user_items:\n",
    "    print(user_item)\n",
    "    \n",
    "    # give song recommendation for that user\n",
    "ir.recommend(song_df['user_id'][5])\n",
    "\n",
    "# give related songs based on the words\n",
    "ir.get_similar_items(['Oliver James - Fleet Foxes', 'The End - Pearl Jam'])"
   ]
  }
 ],
 "metadata": {
  "kernelspec": {
   "display_name": "Python 3 (ipykernel)",
   "language": "python",
   "name": "python3"
  },
  "language_info": {
   "codemirror_mode": {
    "name": "ipython",
    "version": 3
   },
   "file_extension": ".py",
   "mimetype": "text/x-python",
   "name": "python",
   "nbconvert_exporter": "python",
   "pygments_lexer": "ipython3",
   "version": "3.7.4"
  }
 },
 "nbformat": 4,
 "nbformat_minor": 5
}
